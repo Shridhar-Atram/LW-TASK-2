{
 "cells": [
  {
   "cell_type": "code",
   "execution_count": 1,
   "id": "7e724e52",
   "metadata": {},
   "outputs": [],
   "source": [
    "import os"
   ]
  },
  {
   "cell_type": "code",
   "execution_count": 2,
   "id": "73121d4a",
   "metadata": {},
   "outputs": [],
   "source": [
    "import joblib"
   ]
  },
  {
   "cell_type": "code",
   "execution_count": 3,
   "id": "be54eb1e",
   "metadata": {},
   "outputs": [],
   "source": [
    "mind=joblib.load('salary.pk1')"
   ]
  },
  {
   "cell_type": "code",
   "execution_count": 4,
   "id": "b9a4dc83",
   "metadata": {},
   "outputs": [
    {
     "data": {
      "text/plain": [
       "1"
      ]
     },
     "execution_count": 4,
     "metadata": {},
     "output_type": "execute_result"
    }
   ],
   "source": [
    "os.system(\"clear\")"
   ]
  },
  {
   "cell_type": "code",
   "execution_count": 5,
   "id": "37cdae51",
   "metadata": {},
   "outputs": [
    {
     "name": "stdout",
     "output_type": "stream",
     "text": [
      "Welcome\n"
     ]
    }
   ],
   "source": [
    "print(\"Welcome\")"
   ]
  },
  {
   "cell_type": "code",
   "execution_count": 6,
   "id": "8c2cdf41",
   "metadata": {},
   "outputs": [],
   "source": [
    "mind=joblib.load('salary.pk1')"
   ]
  },
  {
   "cell_type": "code",
   "execution_count": 7,
   "id": "43d8e5f5",
   "metadata": {},
   "outputs": [
    {
     "name": "stdout",
     "output_type": "stream",
     "text": [
      "Enter Years of Experience: 4\n"
     ]
    }
   ],
   "source": [
    "i=float(input(\"Enter Years of Experience: \"))"
   ]
  },
  {
   "cell_type": "code",
   "execution_count": 8,
   "id": "dad22da7",
   "metadata": {},
   "outputs": [
    {
     "name": "stdout",
     "output_type": "stream",
     "text": [
      "Predicted salary of the employee is  [63592.04948449]\n"
     ]
    }
   ],
   "source": [
    "print(\"Predicted salary of the employee is \",mind.predict([[i]]))"
   ]
  },
  {
   "cell_type": "code",
   "execution_count": null,
   "id": "4c6a14bb",
   "metadata": {},
   "outputs": [],
   "source": []
  }
 ],
 "metadata": {
  "kernelspec": {
   "display_name": "Python 3 (ipykernel)",
   "language": "python",
   "name": "python3"
  },
  "language_info": {
   "codemirror_mode": {
    "name": "ipython",
    "version": 3
   },
   "file_extension": ".py",
   "mimetype": "text/x-python",
   "name": "python",
   "nbconvert_exporter": "python",
   "pygments_lexer": "ipython3",
   "version": "3.10.9"
  }
 },
 "nbformat": 4,
 "nbformat_minor": 5
}
